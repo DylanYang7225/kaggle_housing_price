{
 "cells": [
  {
   "cell_type": "code",
   "execution_count": 1,
   "metadata": {},
   "outputs": [],
   "source": [
    "import pandas as pd\n",
    "import math\n",
    "import statsmodels\n",
    "from matplotlib import pyplot as plt\n",
    "import numpy as np\n",
    "import scipy\n",
    "from scipy.stats import pearsonr\n",
    "from sklearn.decomposition import PCA"
   ]
  },
  {
   "cell_type": "code",
   "execution_count": 2,
   "metadata": {},
   "outputs": [],
   "source": [
    "raw_data = pd.read_csv('E:/projects/housing_price/data/train.csv',index_col=0)"
   ]
  },
  {
   "cell_type": "code",
   "execution_count": 3,
   "metadata": {},
   "outputs": [],
   "source": [
    "raw_test = pd.read_csv('E:/projects/housing_price/data/test.csv',index_col=0)"
   ]
  },
  {
   "cell_type": "code",
   "execution_count": 4,
   "metadata": {},
   "outputs": [],
   "source": [
    "house_price = raw_data['SalePrice']"
   ]
  },
  {
   "cell_type": "code",
   "execution_count": 5,
   "metadata": {},
   "outputs": [],
   "source": [
    "raw_data = raw_data.drop(columns = \"SalePrice\")"
   ]
  },
  {
   "cell_type": "code",
   "execution_count": 6,
   "metadata": {},
   "outputs": [],
   "source": [
    "data = pd.concat([raw_data,raw_test])"
   ]
  },
  {
   "cell_type": "markdown",
   "metadata": {},
   "source": [
    "#### First Look at the shape of the data"
   ]
  },
  {
   "cell_type": "code",
   "execution_count": 7,
   "metadata": {},
   "outputs": [
    {
     "name": "stdout",
     "output_type": "stream",
     "text": [
      "There are 2919 samples and 79 variables\n"
     ]
    }
   ],
   "source": [
    "sample_num, variable_num = data.shape[0],data.shape[1]\n",
    "print(\"There are {} samples and {} variables\".format(sample_num, variable_num))"
   ]
  },
  {
   "cell_type": "code",
   "execution_count": 8,
   "metadata": {},
   "outputs": [
    {
     "data": {
      "text/html": [
       "<div>\n",
       "<style scoped>\n",
       "    .dataframe tbody tr th:only-of-type {\n",
       "        vertical-align: middle;\n",
       "    }\n",
       "\n",
       "    .dataframe tbody tr th {\n",
       "        vertical-align: top;\n",
       "    }\n",
       "\n",
       "    .dataframe thead th {\n",
       "        text-align: right;\n",
       "    }\n",
       "</style>\n",
       "<table border=\"1\" class=\"dataframe\">\n",
       "  <thead>\n",
       "    <tr style=\"text-align: right;\">\n",
       "      <th></th>\n",
       "      <th>MSSubClass</th>\n",
       "      <th>MSZoning</th>\n",
       "      <th>LotFrontage</th>\n",
       "      <th>LotArea</th>\n",
       "      <th>Street</th>\n",
       "      <th>Alley</th>\n",
       "      <th>LotShape</th>\n",
       "      <th>LandContour</th>\n",
       "      <th>Utilities</th>\n",
       "      <th>LotConfig</th>\n",
       "      <th>...</th>\n",
       "      <th>ScreenPorch</th>\n",
       "      <th>PoolArea</th>\n",
       "      <th>PoolQC</th>\n",
       "      <th>Fence</th>\n",
       "      <th>MiscFeature</th>\n",
       "      <th>MiscVal</th>\n",
       "      <th>MoSold</th>\n",
       "      <th>YrSold</th>\n",
       "      <th>SaleType</th>\n",
       "      <th>SaleCondition</th>\n",
       "    </tr>\n",
       "    <tr>\n",
       "      <th>Id</th>\n",
       "      <th></th>\n",
       "      <th></th>\n",
       "      <th></th>\n",
       "      <th></th>\n",
       "      <th></th>\n",
       "      <th></th>\n",
       "      <th></th>\n",
       "      <th></th>\n",
       "      <th></th>\n",
       "      <th></th>\n",
       "      <th></th>\n",
       "      <th></th>\n",
       "      <th></th>\n",
       "      <th></th>\n",
       "      <th></th>\n",
       "      <th></th>\n",
       "      <th></th>\n",
       "      <th></th>\n",
       "      <th></th>\n",
       "      <th></th>\n",
       "      <th></th>\n",
       "    </tr>\n",
       "  </thead>\n",
       "  <tbody>\n",
       "    <tr>\n",
       "      <td>1</td>\n",
       "      <td>60</td>\n",
       "      <td>RL</td>\n",
       "      <td>65.0</td>\n",
       "      <td>8450</td>\n",
       "      <td>Pave</td>\n",
       "      <td>NaN</td>\n",
       "      <td>Reg</td>\n",
       "      <td>Lvl</td>\n",
       "      <td>AllPub</td>\n",
       "      <td>Inside</td>\n",
       "      <td>...</td>\n",
       "      <td>0</td>\n",
       "      <td>0</td>\n",
       "      <td>NaN</td>\n",
       "      <td>NaN</td>\n",
       "      <td>NaN</td>\n",
       "      <td>0</td>\n",
       "      <td>2</td>\n",
       "      <td>2008</td>\n",
       "      <td>WD</td>\n",
       "      <td>Normal</td>\n",
       "    </tr>\n",
       "    <tr>\n",
       "      <td>2</td>\n",
       "      <td>20</td>\n",
       "      <td>RL</td>\n",
       "      <td>80.0</td>\n",
       "      <td>9600</td>\n",
       "      <td>Pave</td>\n",
       "      <td>NaN</td>\n",
       "      <td>Reg</td>\n",
       "      <td>Lvl</td>\n",
       "      <td>AllPub</td>\n",
       "      <td>FR2</td>\n",
       "      <td>...</td>\n",
       "      <td>0</td>\n",
       "      <td>0</td>\n",
       "      <td>NaN</td>\n",
       "      <td>NaN</td>\n",
       "      <td>NaN</td>\n",
       "      <td>0</td>\n",
       "      <td>5</td>\n",
       "      <td>2007</td>\n",
       "      <td>WD</td>\n",
       "      <td>Normal</td>\n",
       "    </tr>\n",
       "    <tr>\n",
       "      <td>3</td>\n",
       "      <td>60</td>\n",
       "      <td>RL</td>\n",
       "      <td>68.0</td>\n",
       "      <td>11250</td>\n",
       "      <td>Pave</td>\n",
       "      <td>NaN</td>\n",
       "      <td>IR1</td>\n",
       "      <td>Lvl</td>\n",
       "      <td>AllPub</td>\n",
       "      <td>Inside</td>\n",
       "      <td>...</td>\n",
       "      <td>0</td>\n",
       "      <td>0</td>\n",
       "      <td>NaN</td>\n",
       "      <td>NaN</td>\n",
       "      <td>NaN</td>\n",
       "      <td>0</td>\n",
       "      <td>9</td>\n",
       "      <td>2008</td>\n",
       "      <td>WD</td>\n",
       "      <td>Normal</td>\n",
       "    </tr>\n",
       "    <tr>\n",
       "      <td>4</td>\n",
       "      <td>70</td>\n",
       "      <td>RL</td>\n",
       "      <td>60.0</td>\n",
       "      <td>9550</td>\n",
       "      <td>Pave</td>\n",
       "      <td>NaN</td>\n",
       "      <td>IR1</td>\n",
       "      <td>Lvl</td>\n",
       "      <td>AllPub</td>\n",
       "      <td>Corner</td>\n",
       "      <td>...</td>\n",
       "      <td>0</td>\n",
       "      <td>0</td>\n",
       "      <td>NaN</td>\n",
       "      <td>NaN</td>\n",
       "      <td>NaN</td>\n",
       "      <td>0</td>\n",
       "      <td>2</td>\n",
       "      <td>2006</td>\n",
       "      <td>WD</td>\n",
       "      <td>Abnorml</td>\n",
       "    </tr>\n",
       "    <tr>\n",
       "      <td>5</td>\n",
       "      <td>60</td>\n",
       "      <td>RL</td>\n",
       "      <td>84.0</td>\n",
       "      <td>14260</td>\n",
       "      <td>Pave</td>\n",
       "      <td>NaN</td>\n",
       "      <td>IR1</td>\n",
       "      <td>Lvl</td>\n",
       "      <td>AllPub</td>\n",
       "      <td>FR2</td>\n",
       "      <td>...</td>\n",
       "      <td>0</td>\n",
       "      <td>0</td>\n",
       "      <td>NaN</td>\n",
       "      <td>NaN</td>\n",
       "      <td>NaN</td>\n",
       "      <td>0</td>\n",
       "      <td>12</td>\n",
       "      <td>2008</td>\n",
       "      <td>WD</td>\n",
       "      <td>Normal</td>\n",
       "    </tr>\n",
       "    <tr>\n",
       "      <td>...</td>\n",
       "      <td>...</td>\n",
       "      <td>...</td>\n",
       "      <td>...</td>\n",
       "      <td>...</td>\n",
       "      <td>...</td>\n",
       "      <td>...</td>\n",
       "      <td>...</td>\n",
       "      <td>...</td>\n",
       "      <td>...</td>\n",
       "      <td>...</td>\n",
       "      <td>...</td>\n",
       "      <td>...</td>\n",
       "      <td>...</td>\n",
       "      <td>...</td>\n",
       "      <td>...</td>\n",
       "      <td>...</td>\n",
       "      <td>...</td>\n",
       "      <td>...</td>\n",
       "      <td>...</td>\n",
       "      <td>...</td>\n",
       "      <td>...</td>\n",
       "    </tr>\n",
       "    <tr>\n",
       "      <td>2915</td>\n",
       "      <td>160</td>\n",
       "      <td>RM</td>\n",
       "      <td>21.0</td>\n",
       "      <td>1936</td>\n",
       "      <td>Pave</td>\n",
       "      <td>NaN</td>\n",
       "      <td>Reg</td>\n",
       "      <td>Lvl</td>\n",
       "      <td>AllPub</td>\n",
       "      <td>Inside</td>\n",
       "      <td>...</td>\n",
       "      <td>0</td>\n",
       "      <td>0</td>\n",
       "      <td>NaN</td>\n",
       "      <td>NaN</td>\n",
       "      <td>NaN</td>\n",
       "      <td>0</td>\n",
       "      <td>6</td>\n",
       "      <td>2006</td>\n",
       "      <td>WD</td>\n",
       "      <td>Normal</td>\n",
       "    </tr>\n",
       "    <tr>\n",
       "      <td>2916</td>\n",
       "      <td>160</td>\n",
       "      <td>RM</td>\n",
       "      <td>21.0</td>\n",
       "      <td>1894</td>\n",
       "      <td>Pave</td>\n",
       "      <td>NaN</td>\n",
       "      <td>Reg</td>\n",
       "      <td>Lvl</td>\n",
       "      <td>AllPub</td>\n",
       "      <td>Inside</td>\n",
       "      <td>...</td>\n",
       "      <td>0</td>\n",
       "      <td>0</td>\n",
       "      <td>NaN</td>\n",
       "      <td>NaN</td>\n",
       "      <td>NaN</td>\n",
       "      <td>0</td>\n",
       "      <td>4</td>\n",
       "      <td>2006</td>\n",
       "      <td>WD</td>\n",
       "      <td>Abnorml</td>\n",
       "    </tr>\n",
       "    <tr>\n",
       "      <td>2917</td>\n",
       "      <td>20</td>\n",
       "      <td>RL</td>\n",
       "      <td>160.0</td>\n",
       "      <td>20000</td>\n",
       "      <td>Pave</td>\n",
       "      <td>NaN</td>\n",
       "      <td>Reg</td>\n",
       "      <td>Lvl</td>\n",
       "      <td>AllPub</td>\n",
       "      <td>Inside</td>\n",
       "      <td>...</td>\n",
       "      <td>0</td>\n",
       "      <td>0</td>\n",
       "      <td>NaN</td>\n",
       "      <td>NaN</td>\n",
       "      <td>NaN</td>\n",
       "      <td>0</td>\n",
       "      <td>9</td>\n",
       "      <td>2006</td>\n",
       "      <td>WD</td>\n",
       "      <td>Abnorml</td>\n",
       "    </tr>\n",
       "    <tr>\n",
       "      <td>2918</td>\n",
       "      <td>85</td>\n",
       "      <td>RL</td>\n",
       "      <td>62.0</td>\n",
       "      <td>10441</td>\n",
       "      <td>Pave</td>\n",
       "      <td>NaN</td>\n",
       "      <td>Reg</td>\n",
       "      <td>Lvl</td>\n",
       "      <td>AllPub</td>\n",
       "      <td>Inside</td>\n",
       "      <td>...</td>\n",
       "      <td>0</td>\n",
       "      <td>0</td>\n",
       "      <td>NaN</td>\n",
       "      <td>MnPrv</td>\n",
       "      <td>Shed</td>\n",
       "      <td>700</td>\n",
       "      <td>7</td>\n",
       "      <td>2006</td>\n",
       "      <td>WD</td>\n",
       "      <td>Normal</td>\n",
       "    </tr>\n",
       "    <tr>\n",
       "      <td>2919</td>\n",
       "      <td>60</td>\n",
       "      <td>RL</td>\n",
       "      <td>74.0</td>\n",
       "      <td>9627</td>\n",
       "      <td>Pave</td>\n",
       "      <td>NaN</td>\n",
       "      <td>Reg</td>\n",
       "      <td>Lvl</td>\n",
       "      <td>AllPub</td>\n",
       "      <td>Inside</td>\n",
       "      <td>...</td>\n",
       "      <td>0</td>\n",
       "      <td>0</td>\n",
       "      <td>NaN</td>\n",
       "      <td>NaN</td>\n",
       "      <td>NaN</td>\n",
       "      <td>0</td>\n",
       "      <td>11</td>\n",
       "      <td>2006</td>\n",
       "      <td>WD</td>\n",
       "      <td>Normal</td>\n",
       "    </tr>\n",
       "  </tbody>\n",
       "</table>\n",
       "<p>2919 rows × 79 columns</p>\n",
       "</div>"
      ],
      "text/plain": [
       "      MSSubClass MSZoning  LotFrontage  LotArea Street Alley LotShape  \\\n",
       "Id                                                                      \n",
       "1             60       RL         65.0     8450   Pave   NaN      Reg   \n",
       "2             20       RL         80.0     9600   Pave   NaN      Reg   \n",
       "3             60       RL         68.0    11250   Pave   NaN      IR1   \n",
       "4             70       RL         60.0     9550   Pave   NaN      IR1   \n",
       "5             60       RL         84.0    14260   Pave   NaN      IR1   \n",
       "...          ...      ...          ...      ...    ...   ...      ...   \n",
       "2915         160       RM         21.0     1936   Pave   NaN      Reg   \n",
       "2916         160       RM         21.0     1894   Pave   NaN      Reg   \n",
       "2917          20       RL        160.0    20000   Pave   NaN      Reg   \n",
       "2918          85       RL         62.0    10441   Pave   NaN      Reg   \n",
       "2919          60       RL         74.0     9627   Pave   NaN      Reg   \n",
       "\n",
       "     LandContour Utilities LotConfig  ... ScreenPorch PoolArea PoolQC  Fence  \\\n",
       "Id                                    ...                                      \n",
       "1            Lvl    AllPub    Inside  ...           0        0    NaN    NaN   \n",
       "2            Lvl    AllPub       FR2  ...           0        0    NaN    NaN   \n",
       "3            Lvl    AllPub    Inside  ...           0        0    NaN    NaN   \n",
       "4            Lvl    AllPub    Corner  ...           0        0    NaN    NaN   \n",
       "5            Lvl    AllPub       FR2  ...           0        0    NaN    NaN   \n",
       "...          ...       ...       ...  ...         ...      ...    ...    ...   \n",
       "2915         Lvl    AllPub    Inside  ...           0        0    NaN    NaN   \n",
       "2916         Lvl    AllPub    Inside  ...           0        0    NaN    NaN   \n",
       "2917         Lvl    AllPub    Inside  ...           0        0    NaN    NaN   \n",
       "2918         Lvl    AllPub    Inside  ...           0        0    NaN  MnPrv   \n",
       "2919         Lvl    AllPub    Inside  ...           0        0    NaN    NaN   \n",
       "\n",
       "     MiscFeature MiscVal  MoSold  YrSold  SaleType  SaleCondition  \n",
       "Id                                                                 \n",
       "1            NaN       0       2    2008        WD         Normal  \n",
       "2            NaN       0       5    2007        WD         Normal  \n",
       "3            NaN       0       9    2008        WD         Normal  \n",
       "4            NaN       0       2    2006        WD        Abnorml  \n",
       "5            NaN       0      12    2008        WD         Normal  \n",
       "...          ...     ...     ...     ...       ...            ...  \n",
       "2915         NaN       0       6    2006        WD         Normal  \n",
       "2916         NaN       0       4    2006        WD        Abnorml  \n",
       "2917         NaN       0       9    2006        WD        Abnorml  \n",
       "2918        Shed     700       7    2006        WD         Normal  \n",
       "2919         NaN       0      11    2006        WD         Normal  \n",
       "\n",
       "[2919 rows x 79 columns]"
      ]
     },
     "execution_count": 8,
     "metadata": {},
     "output_type": "execute_result"
    }
   ],
   "source": [
    "data"
   ]
  },
  {
   "cell_type": "markdown",
   "metadata": {},
   "source": [
    "# Variable Trimming and Data Matrix Reshaping"
   ]
  },
  {
   "cell_type": "markdown",
   "metadata": {},
   "source": [
    "#### Next we would want start to trim down variables that have too many missing values or not significantly different across all samples. Here is a function that would help us investigate a variable's value distribution."
   ]
  },
  {
   "cell_type": "code",
   "execution_count": 9,
   "metadata": {},
   "outputs": [],
   "source": [
    "def investigate_var(data,var):\n",
    "    sample_num = data.shape[0]\n",
    "    types = set(data[var])\n",
    "    for type in types:\n",
    "        if not isinstance(type,str):\n",
    "            missing_count = 0\n",
    "            for i in range(1,sample_num+1):\n",
    "                if not isinstance(data.loc[i][var],str):\n",
    "                    missing_count += 1\n",
    "            print(\"There are {} sample(s) with missing {} type, being {}%. \".format(missing_count,var,(missing_count/sample_num)*100))\n",
    "        else:\n",
    "            count = data[data[var]==type].shape[0]\n",
    "            print(\"There are {} sample(s) with {} type {}, being {}%. \".format(count,var,type,(count/sample_num)*100))"
   ]
  },
  {
   "cell_type": "markdown",
   "metadata": {},
   "source": [
    "## MSSubClass"
   ]
  },
  {
   "cell_type": "markdown",
   "metadata": {},
   "source": [
    "#### This is a summarization of other variables, we don't need it. "
   ]
  },
  {
   "cell_type": "code",
   "execution_count": 10,
   "metadata": {},
   "outputs": [],
   "source": [
    "data = data.drop(columns=['MSSubClass'])"
   ]
  },
  {
   "cell_type": "markdown",
   "metadata": {},
   "source": [
    "## Alley"
   ]
  },
  {
   "cell_type": "code",
   "execution_count": 11,
   "metadata": {},
   "outputs": [
    {
     "name": "stdout",
     "output_type": "stream",
     "text": [
      "There are 2721 sample(s) with missing Alley type, being 93.21685508735868%. \n",
      "There are 78 sample(s) with Alley type Pave, being 2.672147995889003%. \n",
      "There are 120 sample(s) with Alley type Grvl, being 4.110996916752312%. \n"
     ]
    }
   ],
   "source": [
    "var = 'Alley'\n",
    "investigate_var(data,var)"
   ]
  },
  {
   "cell_type": "markdown",
   "metadata": {},
   "source": [
    "#### Since there is only a small portion of houses having data for \"Alley\", we will remove this variable."
   ]
  },
  {
   "cell_type": "code",
   "execution_count": 12,
   "metadata": {},
   "outputs": [],
   "source": [
    "data = data.drop(columns=[var])"
   ]
  },
  {
   "cell_type": "markdown",
   "metadata": {},
   "source": [
    "#### Make sure that Alley is removed from the variable list"
   ]
  },
  {
   "cell_type": "code",
   "execution_count": 13,
   "metadata": {},
   "outputs": [
    {
     "name": "stdout",
     "output_type": "stream",
     "text": [
      "After removing 'Alley', there are 2919 samples and 77 variables\n"
     ]
    }
   ],
   "source": [
    "sample_num, variable_num = data.shape[0],data.shape[1]\n",
    "print(\"After removing '{}', there are {} samples and {} variables\".format(var,sample_num, variable_num))"
   ]
  },
  {
   "cell_type": "markdown",
   "metadata": {},
   "source": [
    "## Street"
   ]
  },
  {
   "cell_type": "code",
   "execution_count": 14,
   "metadata": {},
   "outputs": [
    {
     "name": "stdout",
     "output_type": "stream",
     "text": [
      "There are 2907 sample(s) with Street type Pave, being 99.58890030832477%. \n",
      "There are 12 sample(s) with Street type Grvl, being 0.41109969167523125%. \n"
     ]
    }
   ],
   "source": [
    "var = 'Street'\n",
    "investigate_var(data,var)"
   ]
  },
  {
   "cell_type": "markdown",
   "metadata": {},
   "source": [
    "#### Since only 0.4% of the houses have Grvl as their 'Street' typing, we will remove it as well."
   ]
  },
  {
   "cell_type": "code",
   "execution_count": 15,
   "metadata": {},
   "outputs": [],
   "source": [
    "data = data.drop(columns=[var])"
   ]
  },
  {
   "cell_type": "code",
   "execution_count": 16,
   "metadata": {},
   "outputs": [
    {
     "name": "stdout",
     "output_type": "stream",
     "text": [
      "After removing 'Street', there are 2919 samples and 76 variables\n"
     ]
    }
   ],
   "source": [
    "sample_num, variable_num = data.shape[0],data.shape[1]\n",
    "print(\"After removing '{}', there are {} samples and {} variables\".format(var,sample_num, variable_num))"
   ]
  },
  {
   "cell_type": "markdown",
   "metadata": {},
   "source": [
    "## Utilities"
   ]
  },
  {
   "cell_type": "code",
   "execution_count": 17,
   "metadata": {},
   "outputs": [
    {
     "name": "stdout",
     "output_type": "stream",
     "text": [
      "There are 2 sample(s) with missing Utilities type, being 0.0685166152792052%. \n",
      "There are 2916 sample(s) with Utilities type AllPub, being 99.8972250770812%. \n",
      "There are 1 sample(s) with Utilities type NoSeWa, being 0.0342583076396026%. \n"
     ]
    }
   ],
   "source": [
    "var = 'Utilities'\n",
    "investigate_var(data,var)"
   ]
  },
  {
   "cell_type": "markdown",
   "metadata": {},
   "source": [
    "#### It is obvious that we should also remove 'Utilities', a vast majority of those are the same typing."
   ]
  },
  {
   "cell_type": "code",
   "execution_count": 18,
   "metadata": {},
   "outputs": [
    {
     "name": "stdout",
     "output_type": "stream",
     "text": [
      "After removing 'Utilities', there are 2919 samples and 75 variables\n"
     ]
    }
   ],
   "source": [
    "data = data.drop(columns=[var])\n",
    "sample_num, variable_num = data.shape[0],data.shape[1]\n",
    "print(\"After removing '{}', there are {} samples and {} variables\".format(var,sample_num, variable_num))"
   ]
  },
  {
   "cell_type": "markdown",
   "metadata": {},
   "source": [
    "## MiscFeature"
   ]
  },
  {
   "cell_type": "code",
   "execution_count": 19,
   "metadata": {},
   "outputs": [
    {
     "name": "stdout",
     "output_type": "stream",
     "text": [
      "There are 2814 sample(s) with missing MiscFeature type, being 96.40287769784173%. \n",
      "There are 5 sample(s) with MiscFeature type Gar2, being 0.17129153819801302%. \n",
      "There are 4 sample(s) with MiscFeature type Othr, being 0.1370332305584104%. \n",
      "There are 95 sample(s) with MiscFeature type Shed, being 3.254539225762247%. \n",
      "There are 1 sample(s) with MiscFeature type TenC, being 0.0342583076396026%. \n"
     ]
    }
   ],
   "source": [
    "var = 'MiscFeature'\n",
    "investigate_var(data,var)"
   ]
  },
  {
   "cell_type": "markdown",
   "metadata": {},
   "source": [
    "#### Almost all samples are missing values for this variable. Remove it."
   ]
  },
  {
   "cell_type": "code",
   "execution_count": 20,
   "metadata": {},
   "outputs": [
    {
     "name": "stdout",
     "output_type": "stream",
     "text": [
      "After removing 'MiscFeature', there are 2919 samples and 74 variables\n"
     ]
    }
   ],
   "source": [
    "data = data.drop(columns=[var])\n",
    "sample_num, variable_num = data.shape[0],data.shape[1]\n",
    "print(\"After removing '{}', there are {} samples and {} variables\".format(var,sample_num, variable_num))"
   ]
  },
  {
   "cell_type": "markdown",
   "metadata": {},
   "source": [
    "## LandContour"
   ]
  },
  {
   "cell_type": "code",
   "execution_count": 21,
   "metadata": {},
   "outputs": [
    {
     "name": "stdout",
     "output_type": "stream",
     "text": [
      "There are 117 sample(s) with LandContour type Bnk, being 4.008221993833504%. \n",
      "There are 60 sample(s) with LandContour type Low, being 2.055498458376156%. \n",
      "There are 120 sample(s) with LandContour type HLS, being 4.110996916752312%. \n",
      "There are 2622 sample(s) with LandContour type Lvl, being 89.82528263103802%. \n"
     ]
    }
   ],
   "source": [
    "var = 'LandContour'\n",
    "investigate_var(data,var)"
   ]
  },
  {
   "cell_type": "markdown",
   "metadata": {},
   "source": [
    "#### A majority of the houses have 'Lvl' as their 'LandCountour' typing, we will make a new categorical variable \"LandContour_Lvl\" and assign 'Bnk', 'HLS' and 'Low' with 0 values."
   ]
  },
  {
   "cell_type": "code",
   "execution_count": 22,
   "metadata": {},
   "outputs": [],
   "source": [
    "LandContour_lvl = []\n",
    "for i in range(1,sample_num+1):\n",
    "    if data.loc[i]['LandContour']!='Lvl':\n",
    "        LandContour_lvl.append(0)\n",
    "    else:\n",
    "        LandContour_lvl.append(1)"
   ]
  },
  {
   "cell_type": "code",
   "execution_count": 23,
   "metadata": {},
   "outputs": [],
   "source": [
    "data.insert(variable_num,'LandContour_Lvl',LandContour_lvl,True)"
   ]
  },
  {
   "cell_type": "code",
   "execution_count": 24,
   "metadata": {},
   "outputs": [],
   "source": [
    "data = data.drop(columns='LandContour')"
   ]
  },
  {
   "cell_type": "code",
   "execution_count": 25,
   "metadata": {},
   "outputs": [
    {
     "name": "stdout",
     "output_type": "stream",
     "text": [
      "After changing 'LandContour' to 'LandContour_Lvl', there are 2919 samples and 74 variables\n"
     ]
    }
   ],
   "source": [
    "sample_num, variable_num = data.shape[0],data.shape[1]\n",
    "print(\"After changing 'LandContour' to 'LandContour_Lvl', there are {} samples and {} variables\".format(sample_num, variable_num))"
   ]
  },
  {
   "cell_type": "markdown",
   "metadata": {},
   "source": [
    "## Fence"
   ]
  },
  {
   "cell_type": "code",
   "execution_count": 26,
   "metadata": {},
   "outputs": [
    {
     "name": "stdout",
     "output_type": "stream",
     "text": [
      "There are 2348 sample(s) with missing Fence type, being 80.4385063377869%. \n",
      "There are 118 sample(s) with Fence type GdPrv, being 4.042480301473107%. \n",
      "There are 112 sample(s) with Fence type GdWo, being 3.8369304556354913%. \n",
      "There are 12 sample(s) with Fence type MnWw, being 0.41109969167523125%. \n",
      "There are 329 sample(s) with Fence type MnPrv, being 11.270983213429256%. \n"
     ]
    }
   ],
   "source": [
    "var = 'Fence'\n",
    "investigate_var(data,var)"
   ]
  },
  {
   "cell_type": "markdown",
   "metadata": {},
   "source": [
    "#### Most of the houses don't have a fence, so we will make we will make a new categorical variable \"has_fence\" and houses without a fence with 0 values."
   ]
  },
  {
   "cell_type": "code",
   "execution_count": 27,
   "metadata": {},
   "outputs": [],
   "source": [
    "has_fence = []\n",
    "for i in range(1,sample_num+1):\n",
    "    if not isinstance(data.loc[i]['Fence'], str):\n",
    "        has_fence.append(0)\n",
    "    else:\n",
    "        has_fence.append(1)"
   ]
  },
  {
   "cell_type": "code",
   "execution_count": 28,
   "metadata": {},
   "outputs": [],
   "source": [
    "data.insert(variable_num,'has_fence',has_fence,True)"
   ]
  },
  {
   "cell_type": "code",
   "execution_count": 29,
   "metadata": {},
   "outputs": [],
   "source": [
    "data = data.drop(columns='Fence')"
   ]
  },
  {
   "cell_type": "code",
   "execution_count": 30,
   "metadata": {},
   "outputs": [
    {
     "name": "stdout",
     "output_type": "stream",
     "text": [
      "After changing 'Fence' to 'has_fence', there are 2919 samples and 74 variables\n"
     ]
    }
   ],
   "source": [
    "sample_num, variable_num = data.shape[0],data.shape[1]\n",
    "print(\"After changing 'Fence' to 'has_fence', there are {} samples and {} variables\".format(sample_num, variable_num))"
   ]
  },
  {
   "cell_type": "markdown",
   "metadata": {},
   "source": [
    "## PoolQC"
   ]
  },
  {
   "cell_type": "code",
   "execution_count": 31,
   "metadata": {},
   "outputs": [
    {
     "name": "stdout",
     "output_type": "stream",
     "text": [
      "There are 2909 sample(s) with missing PoolQC type, being 99.65741692360398%. \n",
      "There are 2 sample(s) with PoolQC type Fa, being 0.0685166152792052%. \n",
      "There are 4 sample(s) with PoolQC type Gd, being 0.1370332305584104%. \n",
      "There are 4 sample(s) with PoolQC type Ex, being 0.1370332305584104%. \n"
     ]
    }
   ],
   "source": [
    "var = 'PoolQC'\n",
    "investigate_var(data,var)"
   ]
  },
  {
   "cell_type": "markdown",
   "metadata": {},
   "source": [
    "#### Over 99% of the houses don't have a pool. Remove this variable. Plus the quality of the pool is probably collinear with other features of the house as well as in general houses with a pool has high quality."
   ]
  },
  {
   "cell_type": "code",
   "execution_count": 32,
   "metadata": {},
   "outputs": [],
   "source": [
    "data = data.drop(columns='PoolQC')"
   ]
  },
  {
   "cell_type": "code",
   "execution_count": 33,
   "metadata": {},
   "outputs": [
    {
     "name": "stdout",
     "output_type": "stream",
     "text": [
      "After removing 'PoolQC', there are 2919 samples and 73 variables\n"
     ]
    }
   ],
   "source": [
    "sample_num, variable_num = data.shape[0],data.shape[1]\n",
    "print(\"After removing '{}', there are {} samples and {} variables\".format(var,sample_num, variable_num))"
   ]
  },
  {
   "cell_type": "markdown",
   "metadata": {},
   "source": [
    "## RoofMatl"
   ]
  },
  {
   "cell_type": "code",
   "execution_count": 34,
   "metadata": {},
   "outputs": [
    {
     "name": "stdout",
     "output_type": "stream",
     "text": [
      "There are 23 sample(s) with RoofMatl type Tar&Grv, being 0.7879410757108599%. \n",
      "There are 1 sample(s) with RoofMatl type Roll, being 0.0342583076396026%. \n",
      "There are 7 sample(s) with RoofMatl type WdShngl, being 0.2398081534772182%. \n",
      "There are 1 sample(s) with RoofMatl type Membran, being 0.0342583076396026%. \n",
      "There are 1 sample(s) with RoofMatl type Metal, being 0.0342583076396026%. \n",
      "There are 1 sample(s) with RoofMatl type ClyTile, being 0.0342583076396026%. \n",
      "There are 9 sample(s) with RoofMatl type WdShake, being 0.3083247687564234%. \n",
      "There are 2876 sample(s) with RoofMatl type CompShg, being 98.52689277149709%. \n"
     ]
    }
   ],
   "source": [
    "var = 'RoofMatl'\n",
    "investigate_var(data,var)"
   ]
  },
  {
   "cell_type": "markdown",
   "metadata": {},
   "source": [
    "#### Remove 'RoofMatl' due to the fact that most of the houses having the same roof material."
   ]
  },
  {
   "cell_type": "code",
   "execution_count": 35,
   "metadata": {},
   "outputs": [],
   "source": [
    "data = data.drop(columns='RoofMatl')"
   ]
  },
  {
   "cell_type": "code",
   "execution_count": 36,
   "metadata": {},
   "outputs": [
    {
     "name": "stdout",
     "output_type": "stream",
     "text": [
      "After removing 'RoofMatl', there are 2919 samples and 72 variables\n"
     ]
    }
   ],
   "source": [
    "sample_num, variable_num = data.shape[0],data.shape[1]\n",
    "print(\"After removing '{}', there are {} samples and {} variables\".format(var,sample_num, variable_num))"
   ]
  },
  {
   "cell_type": "markdown",
   "metadata": {},
   "source": [
    "## Heating"
   ]
  },
  {
   "cell_type": "code",
   "execution_count": 37,
   "metadata": {},
   "outputs": [
    {
     "name": "stdout",
     "output_type": "stream",
     "text": [
      "There are 27 sample(s) with Heating type GasW, being 0.9249743062692704%. \n",
      "There are 1 sample(s) with Heating type Floor, being 0.0342583076396026%. \n",
      "There are 6 sample(s) with Heating type Wall, being 0.20554984583761562%. \n",
      "There are 9 sample(s) with Heating type Grav, being 0.3083247687564234%. \n",
      "There are 2874 sample(s) with Heating type GasA, being 98.45837615621788%. \n",
      "There are 2 sample(s) with Heating type OthW, being 0.0685166152792052%. \n"
     ]
    }
   ],
   "source": [
    "var = 'Heating'\n",
    "investigate_var(data,var)"
   ]
  },
  {
   "cell_type": "markdown",
   "metadata": {},
   "source": [
    "Remove 'Heating' due to the fact tha most of the houses have gas heating system."
   ]
  },
  {
   "cell_type": "code",
   "execution_count": 38,
   "metadata": {},
   "outputs": [],
   "source": [
    "data = data.drop(columns='Heating')"
   ]
  },
  {
   "cell_type": "code",
   "execution_count": 39,
   "metadata": {},
   "outputs": [
    {
     "name": "stdout",
     "output_type": "stream",
     "text": [
      "After removing 'Heating', there are 2919 samples and 71 variables\n"
     ]
    }
   ],
   "source": [
    "sample_num, variable_num = data.shape[0],data.shape[1]\n",
    "print(\"After removing '{}', there are {} samples and {} variables\".format(var,sample_num, variable_num))"
   ]
  },
  {
   "cell_type": "markdown",
   "metadata": {},
   "source": [
    "## HeatingQC"
   ]
  },
  {
   "cell_type": "markdown",
   "metadata": {},
   "source": [
    "#### Transform verbal scales into numeric scales"
   ]
  },
  {
   "cell_type": "code",
   "execution_count": 40,
   "metadata": {},
   "outputs": [],
   "source": [
    "HeatingQC = []\n",
    "for i in range(1,sample_num+1):\n",
    "    if data.loc[i]['HeatingQC']=='Ex':\n",
    "        HeatingQC.append(5)\n",
    "    elif data.loc[i]['HeatingQC']=='Gd':\n",
    "        HeatingQC.append(4)\n",
    "    elif data.loc[i]['HeatingQC']=='TA':\n",
    "        HeatingQC.append(3)\n",
    "    elif data.loc[i]['HeatingQC']=='Fa':\n",
    "        HeatingQC.append(2)\n",
    "    elif data.loc[i]['HeatingQC']=='Po':\n",
    "        HeatingQC.append(1)"
   ]
  },
  {
   "cell_type": "code",
   "execution_count": 41,
   "metadata": {},
   "outputs": [],
   "source": [
    "data['HeatingQC']=HeatingQC"
   ]
  },
  {
   "cell_type": "markdown",
   "metadata": {},
   "source": [
    "## RoofStyle"
   ]
  },
  {
   "cell_type": "code",
   "execution_count": 42,
   "metadata": {},
   "outputs": [
    {
     "name": "stdout",
     "output_type": "stream",
     "text": [
      "There are 5 sample(s) with RoofStyle type Shed, being 0.17129153819801302%. \n",
      "There are 20 sample(s) with RoofStyle type Flat, being 0.6851661527920521%. \n",
      "There are 11 sample(s) with RoofStyle type Mansard, being 0.3768413840356286%. \n",
      "There are 551 sample(s) with RoofStyle type Hip, being 18.876327509421035%. \n",
      "There are 2310 sample(s) with RoofStyle type Gable, being 79.13669064748201%. \n",
      "There are 22 sample(s) with RoofStyle type Gambrel, being 0.7536827680712572%. \n"
     ]
    }
   ],
   "source": [
    "var = 'RoofStyle'\n",
    "investigate_var(data,var)"
   ]
  },
  {
   "cell_type": "markdown",
   "metadata": {},
   "source": [
    "#### Merge types other than 'Gable' into one category. "
   ]
  },
  {
   "cell_type": "code",
   "execution_count": 43,
   "metadata": {},
   "outputs": [],
   "source": [
    "gabble_roof = []\n",
    "for i in range(1,sample_num+1):\n",
    "    if data.loc[i]['RoofStyle']!='Gable':\n",
    "        gabble_roof.append(0)\n",
    "    else:\n",
    "        gabble_roof.append(1)"
   ]
  },
  {
   "cell_type": "code",
   "execution_count": 44,
   "metadata": {},
   "outputs": [],
   "source": [
    "data.insert(variable_num,'gabble_roof',gabble_roof,True)"
   ]
  },
  {
   "cell_type": "code",
   "execution_count": 45,
   "metadata": {},
   "outputs": [],
   "source": [
    "data = data.drop(columns=['RoofStyle'])"
   ]
  },
  {
   "cell_type": "code",
   "execution_count": 46,
   "metadata": {},
   "outputs": [
    {
     "name": "stdout",
     "output_type": "stream",
     "text": [
      "After changing 'RoofStyle' to 'gable_roof', there are 2919 samples and 71 variables\n"
     ]
    }
   ],
   "source": [
    "sample_num, variable_num = data.shape[0],data.shape[1]\n",
    "print(\"After changing 'RoofStyle' to 'gable_roof', there are {} samples and {} variables\".format(sample_num, variable_num))"
   ]
  },
  {
   "cell_type": "markdown",
   "metadata": {},
   "source": [
    "## LandSlope"
   ]
  },
  {
   "cell_type": "code",
   "execution_count": 47,
   "metadata": {},
   "outputs": [
    {
     "name": "stdout",
     "output_type": "stream",
     "text": [
      "There are 125 sample(s) with LandSlope type Mod, being 4.282288454950326%. \n",
      "There are 2778 sample(s) with LandSlope type Gtl, being 95.16957862281603%. \n",
      "There are 16 sample(s) with LandSlope type Sev, being 0.5481329222336416%. \n"
     ]
    }
   ],
   "source": [
    "var = 'LandSlope'\n",
    "investigate_var(data,var)"
   ]
  },
  {
   "cell_type": "markdown",
   "metadata": {},
   "source": [
    "#### Make new categorical variable \"LandSlope_Gtl\""
   ]
  },
  {
   "cell_type": "code",
   "execution_count": 48,
   "metadata": {},
   "outputs": [],
   "source": [
    "LandSlope_Gtl = []\n",
    "for i in range(1,sample_num+1):\n",
    "    if data.loc[i]['LandSlope']!='Gtl':\n",
    "        LandSlope_Gtl.append(0)\n",
    "    else:\n",
    "        LandSlope_Gtl.append(1)"
   ]
  },
  {
   "cell_type": "code",
   "execution_count": 49,
   "metadata": {},
   "outputs": [],
   "source": [
    "data.insert(variable_num,'LandSlope_Gtl',LandSlope_Gtl,True)"
   ]
  },
  {
   "cell_type": "code",
   "execution_count": 50,
   "metadata": {},
   "outputs": [],
   "source": [
    "data = data.drop(columns=['LandSlope'])"
   ]
  },
  {
   "cell_type": "code",
   "execution_count": 51,
   "metadata": {},
   "outputs": [
    {
     "name": "stdout",
     "output_type": "stream",
     "text": [
      "After changing 'LandSlope' to 'LandSlope_Gtl', there are 2919 samples and 71 variables\n"
     ]
    }
   ],
   "source": [
    "sample_num, variable_num = data.shape[0],data.shape[1]\n",
    "print(\"After changing 'LandSlope' to 'LandSlope_Gtl', there are {} samples and {} variables\".format(sample_num, variable_num))"
   ]
  },
  {
   "cell_type": "markdown",
   "metadata": {},
   "source": [
    "## LotFrontage"
   ]
  },
  {
   "cell_type": "markdown",
   "metadata": {},
   "source": [
    "#### Fill NA values with zero"
   ]
  },
  {
   "cell_type": "code",
   "execution_count": 52,
   "metadata": {},
   "outputs": [],
   "source": [
    "data['LotFrontage'] = data['LotFrontage'].fillna(0)"
   ]
  },
  {
   "cell_type": "markdown",
   "metadata": {},
   "source": [
    "## Bath"
   ]
  },
  {
   "cell_type": "markdown",
   "metadata": {},
   "source": [
    "#### Merge number of bathrooms"
   ]
  },
  {
   "cell_type": "code",
   "execution_count": 53,
   "metadata": {},
   "outputs": [],
   "source": [
    "tot_bath = []\n",
    "full_baths = ['FullBath','BsmtFullBath',]\n",
    "half_baths=['HalfBath','BsmtHalfBath']\n",
    "for i in range(1,sample_num+1):\n",
    "    tot_bath.append(sum(data.loc[i][bath_type] for bath_type in full_baths)+0.5*sum(data.loc[i][bath_type] for bath_type in half_baths))\n",
    "    "
   ]
  },
  {
   "cell_type": "code",
   "execution_count": 54,
   "metadata": {},
   "outputs": [],
   "source": [
    "data.insert(variable_num,'Bath',tot_bath,True)"
   ]
  },
  {
   "cell_type": "code",
   "execution_count": 55,
   "metadata": {},
   "outputs": [],
   "source": [
    "data = data.drop(columns=full_baths)\n",
    "data = data.drop(columns=half_baths)"
   ]
  },
  {
   "cell_type": "code",
   "execution_count": 56,
   "metadata": {},
   "outputs": [
    {
     "name": "stdout",
     "output_type": "stream",
     "text": [
      "After merging all bathroom types, there are 2919 samples and 68 variables\n"
     ]
    }
   ],
   "source": [
    "sample_num, variable_num = data.shape[0],data.shape[1]\n",
    "print(\"After merging all bathroom types, there are {} samples and {} variables\".format(sample_num, variable_num))"
   ]
  },
  {
   "cell_type": "markdown",
   "metadata": {},
   "source": [
    "## TotRmsAbvGrd"
   ]
  },
  {
   "cell_type": "markdown",
   "metadata": {},
   "source": [
    "#### Remove this variable as we already have more granular data for numbers of all type of rooms"
   ]
  },
  {
   "cell_type": "code",
   "execution_count": 57,
   "metadata": {},
   "outputs": [],
   "source": [
    "data = data.drop(columns=['TotRmsAbvGrd'])"
   ]
  },
  {
   "cell_type": "code",
   "execution_count": 58,
   "metadata": {},
   "outputs": [
    {
     "name": "stdout",
     "output_type": "stream",
     "text": [
      "After removing 'TotRmsAbvGrd', there are 2919 samples and 67 variables\n"
     ]
    }
   ],
   "source": [
    "sample_num, variable_num = data.shape[0],data.shape[1]\n",
    "print(\"After removing 'TotRmsAbvGrd', there are {} samples and {} variables\".format(sample_num, variable_num))"
   ]
  },
  {
   "cell_type": "markdown",
   "metadata": {},
   "source": [
    "## CentralAir"
   ]
  },
  {
   "cell_type": "markdown",
   "metadata": {},
   "source": [
    "#### Replace 'Y' and 'N' with 1 and 0 respectively for 'CentralAir'"
   ]
  },
  {
   "cell_type": "code",
   "execution_count": 59,
   "metadata": {},
   "outputs": [],
   "source": [
    "CentralAir = []\n",
    "for i in range(1,sample_num+1):\n",
    "    if data.loc[i]['CentralAir']!='Y':\n",
    "        CentralAir.append(0)\n",
    "    else:\n",
    "        CentralAir.append(1)\n"
   ]
  },
  {
   "cell_type": "code",
   "execution_count": 60,
   "metadata": {},
   "outputs": [],
   "source": [
    "data['CentralAir']=CentralAir"
   ]
  },
  {
   "cell_type": "markdown",
   "metadata": {},
   "source": [
    "## FireplaceQu"
   ]
  },
  {
   "cell_type": "markdown",
   "metadata": {},
   "source": [
    "#### Replace 'FireplaceQu' with scale 0-5"
   ]
  },
  {
   "cell_type": "code",
   "execution_count": 61,
   "metadata": {},
   "outputs": [
    {
     "name": "stdout",
     "output_type": "stream",
     "text": [
      "There are 1420 sample(s) with missing FireplaceQu type, being 48.646796848235695%. \n",
      "There are 744 sample(s) with FireplaceQu type Gd, being 25.488180883864338%. \n",
      "There are 592 sample(s) with FireplaceQu type TA, being 20.280918122644742%. \n",
      "There are 74 sample(s) with FireplaceQu type Fa, being 2.5351147653305928%. \n",
      "There are 43 sample(s) with FireplaceQu type Ex, being 1.4731072285029119%. \n",
      "There are 46 sample(s) with FireplaceQu type Po, being 1.5758821514217198%. \n"
     ]
    }
   ],
   "source": [
    "var = 'FireplaceQu'\n",
    "investigate_var(data,var)"
   ]
  },
  {
   "cell_type": "code",
   "execution_count": 62,
   "metadata": {},
   "outputs": [],
   "source": [
    "FireplaceQu = []\n",
    "for i in range(1,sample_num+1):\n",
    "    if data.loc[i]['FireplaceQu']=='Ex':\n",
    "        FireplaceQu.append(5)\n",
    "    elif data.loc[i]['FireplaceQu']=='Gd':\n",
    "        FireplaceQu.append(4)\n",
    "    elif data.loc[i]['FireplaceQu']=='TA':\n",
    "        FireplaceQu.append(3)\n",
    "    elif data.loc[i]['FireplaceQu']=='Fa':\n",
    "        FireplaceQu.append(2)\n",
    "    elif data.loc[i]['FireplaceQu']=='Po':\n",
    "        FireplaceQu.append(1)\n",
    "    else:\n",
    "        FireplaceQu.append(0)    "
   ]
  },
  {
   "cell_type": "code",
   "execution_count": 63,
   "metadata": {},
   "outputs": [],
   "source": [
    "data['FireplaceQu'] = FireplaceQu "
   ]
  },
  {
   "cell_type": "markdown",
   "metadata": {},
   "source": [
    "## PavedDrive"
   ]
  },
  {
   "cell_type": "markdown",
   "metadata": {},
   "source": [
    "#### Replace 'PavedDrive' with 0,1,2"
   ]
  },
  {
   "cell_type": "code",
   "execution_count": 64,
   "metadata": {},
   "outputs": [],
   "source": [
    "PavedDrive = []\n",
    "for i in range(1,sample_num+1):\n",
    "    if data.loc[i]['PavedDrive']=='Y':\n",
    "        PavedDrive=2\n",
    "    elif data.loc[i]['PavedDrive']=='N':\n",
    "        PavedDrive=0\n",
    "    else:\n",
    "        PavedDrive=1"
   ]
  },
  {
   "cell_type": "code",
   "execution_count": 65,
   "metadata": {},
   "outputs": [],
   "source": [
    "data['PavedDrive'] = PavedDrive"
   ]
  },
  {
   "cell_type": "markdown",
   "metadata": {},
   "source": [
    "## GarageCond, GarageQual, GarageFinish"
   ]
  },
  {
   "cell_type": "markdown",
   "metadata": {},
   "source": [
    "#### Translate the verbal scales into numeric scales 0-5 for 'GarageCond' and 'GarageQual', then take their sum and put into the new variable 'GarageScore'. "
   ]
  },
  {
   "cell_type": "code",
   "execution_count": 66,
   "metadata": {},
   "outputs": [],
   "source": [
    "GarageQual = []\n",
    "for i in range(1,sample_num+1):\n",
    "    if data.loc[i]['GarageQual']=='Ex':\n",
    "        GarageQual.append(5)\n",
    "    elif data.loc[i]['GarageQual']=='Gd':\n",
    "        GarageQual.append(4)\n",
    "    elif data.loc[i]['GarageQual']=='TA':\n",
    "        GarageQual.append(3)\n",
    "    elif data.loc[i]['GarageQual']=='Fa':\n",
    "        GarageQual.append(2)\n",
    "    elif data.loc[i]['GarageQual']=='Po':\n",
    "        GarageQual.append(1)\n",
    "    else:\n",
    "        GarageQual.append(0)\n",
    "\n",
    "GarageCond = []\n",
    "for i in range(1,sample_num+1):\n",
    "    if data.loc[i]['GarageCond']=='Ex':\n",
    "        GarageCond.append(5)\n",
    "    elif data.loc[i]['GarageCond']=='Gd':\n",
    "        GarageCond.append(4)\n",
    "    elif data.loc[i]['GarageCond']=='TA':\n",
    "        GarageCond.append(3)\n",
    "    elif data.loc[i]['GarageCond']=='Fa':\n",
    "        GarageCond.append(2)\n",
    "    elif data.loc[i]['GarageCond']=='Po':\n",
    "        GarageCond.append(1)\n",
    "    else:\n",
    "        GarageCond.append(0)\n",
    "    \n",
    "GarageScore = [GarageQual[i]+GarageCond[i] for i in range(len(GarageCond))]"
   ]
  },
  {
   "cell_type": "code",
   "execution_count": 67,
   "metadata": {},
   "outputs": [],
   "source": [
    "data.insert(variable_num,'GarageScore',GarageScore,True)"
   ]
  },
  {
   "cell_type": "code",
   "execution_count": 68,
   "metadata": {},
   "outputs": [],
   "source": [
    "data = data.drop(columns=['GarageCond','GarageQual'])"
   ]
  },
  {
   "cell_type": "code",
   "execution_count": 69,
   "metadata": {},
   "outputs": [
    {
     "name": "stdout",
     "output_type": "stream",
     "text": [
      "After merging 'GarageCond' and 'GarageQual', there are 2919 samples and 66 variables\n"
     ]
    }
   ],
   "source": [
    "sample_num, variable_num = data.shape[0],data.shape[1]\n",
    "print(\"After merging 'GarageCond' and 'GarageQual', there are {} samples and {} variables\".format(sample_num, variable_num))"
   ]
  },
  {
   "cell_type": "markdown",
   "metadata": {},
   "source": [
    "#### The hypothesis is that 'GarageFinish' is highly correlated with 'GarageScore', lets verify that"
   ]
  },
  {
   "cell_type": "code",
   "execution_count": 70,
   "metadata": {},
   "outputs": [],
   "source": [
    "GarageFinish = []\n",
    "for i in range(1,sample_num+1):\n",
    "    if data.loc[i]['GarageFinish']=='Fin':\n",
    "        GarageFinish.append(4)\n",
    "    elif data.loc[i]['GarageFinish']=='RFn':\n",
    "        GarageFinish.append(3)\n",
    "    elif data.loc[i]['GarageFinish']=='Unf':\n",
    "        GarageFinish.append(2)\n",
    "    else:\n",
    "        GarageFinish.append(1)\n"
   ]
  },
  {
   "cell_type": "code",
   "execution_count": 71,
   "metadata": {},
   "outputs": [
    {
     "name": "stdout",
     "output_type": "stream",
     "text": [
      "The correlation between 'GarageScore'and 'GarageFinish' is 0.49095304668871875\n"
     ]
    }
   ],
   "source": [
    "print(\"The correlation between 'GarageScore'and 'GarageFinish' is {}\".format(pearsonr(data['GarageScore'],GarageFinish)[0]))"
   ]
  },
  {
   "cell_type": "markdown",
   "metadata": {},
   "source": [
    "#### The hypothesis is not true. Keep numerical scale of 'GarageFinish'. "
   ]
  },
  {
   "cell_type": "code",
   "execution_count": 72,
   "metadata": {},
   "outputs": [],
   "source": [
    "data['GarageFinish'] = GarageFinish"
   ]
  },
  {
   "cell_type": "markdown",
   "metadata": {},
   "source": [
    "## GarageCars and GarageArea"
   ]
  },
  {
   "cell_type": "code",
   "execution_count": 73,
   "metadata": {},
   "outputs": [],
   "source": [
    "data['GarageCars'] = data['GarageCars'].fillna(0)\n",
    "data['GarageArea'] = data['GarageArea'].fillna(0)"
   ]
  },
  {
   "cell_type": "markdown",
   "metadata": {},
   "source": [
    "#### The number of cars that a garage can fit is probably high correlated to the garage size, if that is the case, we can safely remove 'GarageCars'"
   ]
  },
  {
   "cell_type": "code",
   "execution_count": 74,
   "metadata": {},
   "outputs": [
    {
     "name": "stdout",
     "output_type": "stream",
     "text": [
      "The correlation between 'GarageCars'and 'GarageArea' is 0.8898902241956794\n"
     ]
    }
   ],
   "source": [
    "print(\"The correlation between 'GarageCars'and 'GarageArea' is {}\".format(pearsonr(data['GarageCars'],data['GarageArea'])[0]))"
   ]
  },
  {
   "cell_type": "markdown",
   "metadata": {},
   "source": [
    "#### Drop 'GarageCars'"
   ]
  },
  {
   "cell_type": "code",
   "execution_count": 75,
   "metadata": {},
   "outputs": [],
   "source": [
    "data = data.drop(columns='GarageCars')"
   ]
  },
  {
   "cell_type": "code",
   "execution_count": 76,
   "metadata": {},
   "outputs": [
    {
     "name": "stdout",
     "output_type": "stream",
     "text": [
      "After dropping 'GarageCars', there are 2919 samples and 65 variables\n"
     ]
    }
   ],
   "source": [
    "sample_num, variable_num = data.shape[0],data.shape[1]\n",
    "print(\"After dropping 'GarageCars', there are {} samples and {} variables\".format(sample_num, variable_num))"
   ]
  },
  {
   "cell_type": "markdown",
   "metadata": {},
   "source": [
    "## GarageType"
   ]
  },
  {
   "cell_type": "code",
   "execution_count": 77,
   "metadata": {},
   "outputs": [
    {
     "name": "stdout",
     "output_type": "stream",
     "text": [
      "There are 157 sample(s) with missing GarageType type, being 5.378554299417608%. \n",
      "There are 1723 sample(s) with GarageType type Attchd, being 59.02706406303528%. \n",
      "There are 36 sample(s) with GarageType type Basment, being 1.2332990750256936%. \n",
      "There are 23 sample(s) with GarageType type 2Types, being 0.7879410757108599%. \n",
      "There are 779 sample(s) with GarageType type Detchd, being 26.687221651250425%. \n",
      "There are 186 sample(s) with GarageType type BuiltIn, being 6.3720452209660845%. \n",
      "There are 15 sample(s) with GarageType type CarPort, being 0.513874614594039%. \n"
     ]
    }
   ],
   "source": [
    "var = 'GarageType'\n",
    "investigate_var(data,var)"
   ]
  },
  {
   "cell_type": "markdown",
   "metadata": {},
   "source": [
    "#### Merge the minor typings of 'GarageType'"
   ]
  },
  {
   "cell_type": "code",
   "execution_count": 78,
   "metadata": {},
   "outputs": [],
   "source": [
    "GarageType = []\n",
    "for i in range(1,sample_num+1):\n",
    "    if data.loc[i]['GarageType']!='Attchd' and data.loc[i]['GarageType']!='Detchd':\n",
    "        GarageType.append('Others')\n",
    "    else:\n",
    "        GarageType.append(data.loc[i]['GarageType'])\n",
    "        "
   ]
  },
  {
   "cell_type": "code",
   "execution_count": 79,
   "metadata": {},
   "outputs": [],
   "source": [
    "data['GarageType']=GarageType"
   ]
  },
  {
   "cell_type": "markdown",
   "metadata": {},
   "source": [
    "## OverallCond and OverallQual"
   ]
  },
  {
   "cell_type": "markdown",
   "metadata": {},
   "source": [
    "#### Two things we can try with this \n",
    "#### (1) Merging 'OverallCond' and 'OverallQual' into 'OverallScore'\n",
    "#### (2) Introducing interactions between OverallCond, OverallQual, GrLivArea"
   ]
  },
  {
   "cell_type": "code",
   "execution_count": 80,
   "metadata": {},
   "outputs": [],
   "source": [
    "# Merging\n",
    "#OverallScore = [(data.loc[i]['OverallCond']+data.loc[i]['OverallQual']) for i in range(1,sample_num+1)]\n",
    "#data.insert(variable_num,'OverallScore',OverallScore,True)\n",
    "#data = data.drop(columns=['OverallCond','OverallQual'])\n",
    "#sample_num, variable_num = data.shape[0],data.shape[1]\n",
    "#print(\"After merging 'OverallCond' and 'OverallQual', there are {} samples and {} variables\".format(sample_num, variable_num))"
   ]
  },
  {
   "cell_type": "code",
   "execution_count": 81,
   "metadata": {},
   "outputs": [],
   "source": [
    "# Interaction between OverallCond and OveallQual\n",
    "qual_cond_interaction = [(data.loc[i]['OverallCond']*data.loc[i]['OverallQual']) for i in range(1,sample_num+1)]\n",
    "data.insert(variable_num,'OverallCond*OverallQual',qual_cond_interaction,True)\n",
    "# Interaction between GrLivArea and OverallCond\n",
    "area_cond_interaction = [(data.loc[i]['OverallCond']*data.loc[i]['GrLivArea']) for i in range(1,sample_num+1)]\n",
    "data.insert(variable_num,'OverallCond*GrLivArea',area_cond_interaction,True)\n",
    "# Interaction between GrLivArea and OverallQual\n",
    "area_qual_interaction = [(data.loc[i]['OverallQual']*data.loc[i]['GrLivArea']) for i in range(1,sample_num+1)]\n",
    "data.insert(variable_num,'OverallQual*GrLivArea',area_qual_interaction,True)\n",
    "# Three way interaction\n",
    "three_way_interaction = [(data.loc[i]['OverallCond']*data.loc[i]['OverallQual']*data.loc[i]['GrLivArea']) for i in range(1,sample_num+1)]\n",
    "data.insert(variable_num,'OverallCond*OverallQual*GrLivArea',three_way_interaction,True)"
   ]
  },
  {
   "cell_type": "markdown",
   "metadata": {},
   "source": [
    "## Exterior1st and Exterior2nd"
   ]
  },
  {
   "cell_type": "code",
   "execution_count": 82,
   "metadata": {},
   "outputs": [
    {
     "name": "stdout",
     "output_type": "stream",
     "text": [
      "There are 1 sample(s) with missing Exterior1st type, being 0.0342583076396026%. \n",
      "There are 1 sample(s) with Exterior1st type ImStucc, being 0.0342583076396026%. \n",
      "There are 126 sample(s) with Exterior1st type CemntBd, being 4.316546762589928%. \n",
      "There are 87 sample(s) with Exterior1st type BrkFace, being 2.9804727646454263%. \n",
      "There are 450 sample(s) with Exterior1st type MetalSd, being 15.416238437821173%. \n",
      "There are 56 sample(s) with Exterior1st type WdShing, being 1.9184652278177456%. \n",
      "There are 44 sample(s) with Exterior1st type AsbShng, being 1.5073655361425145%. \n",
      "There are 442 sample(s) with Exterior1st type HdBoard, being 15.142171976704349%. \n",
      "There are 2 sample(s) with Exterior1st type CBlock, being 0.0685166152792052%. \n",
      "There are 2 sample(s) with Exterior1st type AsphShn, being 0.0685166152792052%. \n",
      "There are 1025 sample(s) with Exterior1st type VinylSd, being 35.11476533059267%. \n",
      "There are 411 sample(s) with Exterior1st type Wd Sdng, being 14.080164439876668%. \n",
      "There are 6 sample(s) with Exterior1st type BrkComm, being 0.20554984583761562%. \n",
      "There are 2 sample(s) with Exterior1st type Stone, being 0.0685166152792052%. \n",
      "There are 221 sample(s) with Exterior1st type Plywood, being 7.571085988352174%. \n",
      "There are 43 sample(s) with Exterior1st type Stucco, being 1.4731072285029119%. \n"
     ]
    }
   ],
   "source": [
    "var = 'Exterior1st'\n",
    "investigate_var(data,var)"
   ]
  },
  {
   "cell_type": "code",
   "execution_count": 83,
   "metadata": {},
   "outputs": [
    {
     "name": "stdout",
     "output_type": "stream",
     "text": [
      "There are 126 sample(s) with Exterior2nd type CmentBd, being 4.316546762589928%. \n",
      "There are 15 sample(s) with Exterior2nd type ImStucc, being 0.513874614594039%. \n",
      "There are 1 sample(s) with missing Exterior2nd type, being 0.0342583076396026%. \n",
      "There are 47 sample(s) with Exterior2nd type BrkFace, being 1.6101404590613224%. \n",
      "There are 447 sample(s) with Exterior2nd type MetalSd, being 15.313463514902365%. \n",
      "There are 38 sample(s) with Exterior2nd type AsbShng, being 1.301815690304899%. \n",
      "There are 3 sample(s) with Exterior2nd type CBlock, being 0.10277492291880781%. \n",
      "There are 406 sample(s) with Exterior2nd type HdBoard, being 13.908872901678656%. \n",
      "There are 4 sample(s) with Exterior2nd type AsphShn, being 0.1370332305584104%. \n",
      "There are 1014 sample(s) with Exterior2nd type VinylSd, being 34.73792394655704%. \n",
      "There are 81 sample(s) with Exterior2nd type Wd Shng, being 2.774922918807811%. \n",
      "There are 391 sample(s) with Exterior2nd type Wd Sdng, being 13.394998287084617%. \n",
      "There are 22 sample(s) with Exterior2nd type Brk Cmn, being 0.7536827680712572%. \n",
      "There are 6 sample(s) with Exterior2nd type Stone, being 0.20554984583761562%. \n",
      "There are 1 sample(s) with Exterior2nd type Other, being 0.0342583076396026%. \n",
      "There are 270 sample(s) with Exterior2nd type Plywood, being 9.249743062692703%. \n",
      "There are 47 sample(s) with Exterior2nd type Stucco, being 1.6101404590613224%. \n"
     ]
    }
   ],
   "source": [
    "var = 'Exterior2nd'\n",
    "investigate_var(data,var)"
   ]
  },
  {
   "cell_type": "markdown",
   "metadata": {},
   "source": [
    "#### It seems that both 'Exterior1st' and 'Exterior2nd' have a lot overlaps in the sense that many houses have only 1 type of exterior covering and a few of those types completely dominates the rest typings. Lets see if this is true"
   ]
  },
  {
   "cell_type": "code",
   "execution_count": 84,
   "metadata": {},
   "outputs": [
    {
     "name": "stdout",
     "output_type": "stream",
     "text": [
      "There are 1005 sample(s) have only one coverage type VinylSd, being 34.42959917780062%. \n",
      "There are 186 sample(s) have only one coverage type Plywood, being 6.3720452209660845%. \n",
      "There are 353 sample(s) have only one coverage type Wd Sdng, being 12.09318259677972%. \n",
      "There are 383 sample(s) have only one coverage type HdBoard, being 13.120931825967796%. \n",
      "There are 437 sample(s) have only one coverage type MetalSd, being 14.970880438506336%. \n"
     ]
    }
   ],
   "source": [
    "sample_num = data.shape[0]\n",
    "types = {'VinylSd':0,'Plywood':1,'Wd Sdng':2,'HdBoard':3,'MetalSd':4}\n",
    "typing_counts = [0,0,0,0,0]\n",
    "for i in range(1,sample_num+1):\n",
    "    if data.loc[i]['Exterior1st']==data.loc[i]['Exterior2nd'] and data.loc[i]['Exterior2nd'] in types:\n",
    "        typing_counts[types[data.loc[i]['Exterior1st']]] += 1\n",
    "\n",
    "for type in types:\n",
    "    print(\"There are {} sample(s) have only one coverage type {}, being {}%. \".format(typing_counts[types[type]],type,(typing_counts[types[type]]/sample_num)*100))"
   ]
  },
  {
   "cell_type": "markdown",
   "metadata": {},
   "source": [
    "#### The observation is true, we will combined typings (since a lot of them have only one type of covering) and merge the minors into 'Others'"
   ]
  },
  {
   "cell_type": "code",
   "execution_count": 85,
   "metadata": {},
   "outputs": [],
   "source": [
    "Exterior = []\n",
    "for i in range(1,sample_num+1):\n",
    "    if data.loc[i]['Exterior1st'] not in types:\n",
    "        Exterior.append('Others')\n",
    "    else:\n",
    "        Exterior.append(data.loc[i]['Exterior1st'])"
   ]
  },
  {
   "cell_type": "code",
   "execution_count": 86,
   "metadata": {},
   "outputs": [],
   "source": [
    "data.insert(variable_num,'Exterior',Exterior,True)"
   ]
  },
  {
   "cell_type": "code",
   "execution_count": 87,
   "metadata": {},
   "outputs": [],
   "source": [
    "data = data.drop(columns=['Exterior1st','Exterior2nd'])"
   ]
  },
  {
   "cell_type": "code",
   "execution_count": 88,
   "metadata": {},
   "outputs": [
    {
     "name": "stdout",
     "output_type": "stream",
     "text": [
      "After merging 'Exterior1st' and 'Exterior2nd', there are 2919 samples and 68 variables\n"
     ]
    }
   ],
   "source": [
    "sample_num, variable_num = data.shape[0],data.shape[1]\n",
    "print(\"After merging 'Exterior1st' and 'Exterior2nd', there are {} samples and {} variables\".format(sample_num, variable_num))"
   ]
  },
  {
   "cell_type": "markdown",
   "metadata": {},
   "source": [
    "## MasVnrType"
   ]
  },
  {
   "cell_type": "code",
   "execution_count": 89,
   "metadata": {},
   "outputs": [
    {
     "name": "stdout",
     "output_type": "stream",
     "text": [
      "There are 24 sample(s) with missing MasVnrType type, being 0.8221993833504625%. \n",
      "There are 879 sample(s) with MasVnrType type BrkFace, being 30.11305241521069%. \n",
      "There are 1742 sample(s) with MasVnrType type None, being 59.67797190818773%. \n",
      "There are 249 sample(s) with MasVnrType type Stone, being 8.53031860226105%. \n",
      "There are 25 sample(s) with MasVnrType type BrkCmn, being 0.8564576909900651%. \n"
     ]
    }
   ],
   "source": [
    "var = 'MasVnrType'\n",
    "investigate_var(data,var)"
   ]
  },
  {
   "cell_type": "markdown",
   "metadata": {},
   "source": [
    "#### Only two big categories, merge the rest into \"Others\""
   ]
  },
  {
   "cell_type": "code",
   "execution_count": 90,
   "metadata": {},
   "outputs": [],
   "source": [
    "MasVnrType = []\n",
    "\n",
    "for i in range(1,sample_num+1):\n",
    "    if data.loc[i]['MasVnrType']!='None' and data.loc[i]['MasVnrType']!='BrkFace':\n",
    "        MasVnrType.append('Others')\n",
    "    else:\n",
    "        MasVnrType.append(data.loc[i]['MasVnrType'])"
   ]
  },
  {
   "cell_type": "code",
   "execution_count": 91,
   "metadata": {},
   "outputs": [],
   "source": [
    "data['MasVnrType'] = MasVnrType"
   ]
  },
  {
   "cell_type": "markdown",
   "metadata": {},
   "source": [
    "## ExterCond and ExterQual"
   ]
  },
  {
   "cell_type": "markdown",
   "metadata": {},
   "source": [
    "#### Translating the two metrics into numeric scale and merging them into 'ExterScore'"
   ]
  },
  {
   "cell_type": "code",
   "execution_count": 92,
   "metadata": {},
   "outputs": [],
   "source": [
    "ExterCond = []\n",
    "for i in range(1,sample_num+1):\n",
    "    if data.loc[i]['ExterCond']=='Ex':\n",
    "        ExterCond.append(5)\n",
    "    elif data.loc[i]['ExterCond']=='Gd':\n",
    "        ExterCond.append(4)\n",
    "    elif data.loc[i]['ExterCond']=='TA':\n",
    "        ExterCond.append(3)\n",
    "    elif data.loc[i]['ExterCond']=='Fa':\n",
    "        ExterCond.append(2)\n",
    "    elif data.loc[i]['ExterCond']=='Po':\n",
    "        ExterCond.append(1)"
   ]
  },
  {
   "cell_type": "code",
   "execution_count": 93,
   "metadata": {},
   "outputs": [],
   "source": [
    "ExterQual = []\n",
    "for i in range(1,sample_num+1):\n",
    "    if data.loc[i]['ExterQual']=='Ex':\n",
    "        ExterQual.append(5)\n",
    "    elif data.loc[i]['ExterQual']=='Gd':\n",
    "        ExterQual.append(4)\n",
    "    elif data.loc[i]['ExterQual']=='TA':\n",
    "        ExterQual.append(3)\n",
    "    elif data.loc[i]['ExterQual']=='Fa':\n",
    "        ExterQual.append(2)\n",
    "    elif data.loc[i]['ExterQual']=='Po':\n",
    "        ExterQual.append(1)"
   ]
  },
  {
   "cell_type": "code",
   "execution_count": 94,
   "metadata": {},
   "outputs": [],
   "source": [
    "ExterScore = [ExterCond[i]+ExterQual[i] for i in range(len(ExterCond))]"
   ]
  },
  {
   "cell_type": "code",
   "execution_count": 95,
   "metadata": {},
   "outputs": [],
   "source": [
    "data.insert(variable_num,'ExterScore',ExterScore,True)"
   ]
  },
  {
   "cell_type": "code",
   "execution_count": 96,
   "metadata": {},
   "outputs": [],
   "source": [
    "data = data.drop(columns=['ExterQual','ExterCond'])"
   ]
  },
  {
   "cell_type": "code",
   "execution_count": 97,
   "metadata": {},
   "outputs": [
    {
     "name": "stdout",
     "output_type": "stream",
     "text": [
      "After merging 'ExteriorCond' and 'ExteriorQual', there are 2919 samples and 67 variables\n"
     ]
    }
   ],
   "source": [
    "sample_num, variable_num = data.shape[0],data.shape[1]\n",
    "print(\"After merging 'ExteriorCond' and 'ExteriorQual', there are {} samples and {} variables\".format(sample_num, variable_num))"
   ]
  },
  {
   "cell_type": "markdown",
   "metadata": {},
   "source": [
    "## BsmtQual and BsmtCond"
   ]
  },
  {
   "cell_type": "code",
   "execution_count": 98,
   "metadata": {},
   "outputs": [
    {
     "name": "stdout",
     "output_type": "stream",
     "text": [
      "There are 82 sample(s) with missing BsmtCond type, being 2.8091812264474134%. \n",
      "There are 122 sample(s) with BsmtCond type Gd, being 4.1795135320315175%. \n",
      "There are 2606 sample(s) with BsmtCond type TA, being 89.27714970880439%. \n",
      "There are 104 sample(s) with BsmtCond type Fa, being 3.562863994518671%. \n",
      "There are 5 sample(s) with BsmtCond type Po, being 0.17129153819801302%. \n"
     ]
    }
   ],
   "source": [
    "investigate_var(data,'BsmtCond')"
   ]
  },
  {
   "cell_type": "code",
   "execution_count": 99,
   "metadata": {},
   "outputs": [
    {
     "name": "stdout",
     "output_type": "stream",
     "text": [
      "There are 81 sample(s) with missing BsmtQual type, being 2.774922918807811%. \n",
      "There are 1209 sample(s) with BsmtQual type Gd, being 41.41829393627955%. \n",
      "There are 1283 sample(s) with BsmtQual type TA, being 43.953408701610144%. \n",
      "There are 88 sample(s) with BsmtQual type Fa, being 3.014731072285029%. \n",
      "There are 258 sample(s) with BsmtQual type Ex, being 8.83864337101747%. \n"
     ]
    }
   ],
   "source": [
    "investigate_var(data,'BsmtQual')"
   ]
  },
  {
   "cell_type": "markdown",
   "metadata": {},
   "source": [
    "#### Some of the houses do not have basement, in this case we will fill the quality with 'TA' since we do not want this to significantly affect the model. In fact, it is a commonsence that having a basement or not will not greatly affect the overall value. Some very expensive houses don't have basement at all. "
   ]
  },
  {
   "cell_type": "code",
   "execution_count": 100,
   "metadata": {},
   "outputs": [],
   "source": [
    "data['BsmtCond'] = data['BsmtCond'].fillna('TA')\n",
    "data['BsmtQual'] = data['BsmtQual'].fillna('TA')"
   ]
  },
  {
   "cell_type": "markdown",
   "metadata": {},
   "source": [
    "#### Now transform these two metrics into numeric scale"
   ]
  },
  {
   "cell_type": "code",
   "execution_count": 101,
   "metadata": {},
   "outputs": [],
   "source": [
    "BsmtCond = []\n",
    "for i in range(1,sample_num+1):\n",
    "    if data.loc[i]['BsmtCond']=='Gd':\n",
    "        BsmtCond.append(4)\n",
    "    elif data.loc[i]['BsmtCond']=='TA':\n",
    "        BsmtCond.append(3)\n",
    "    elif data.loc[i]['BsmtCond']=='Fa':\n",
    "        BsmtCond.append(2)\n",
    "    elif data.loc[i]['BsmtCond']=='Po':\n",
    "        BsmtCond.append(1)\n",
    "        \n",
    "BsmtQual = []\n",
    "for i in range(1,sample_num+1):\n",
    "    if data.loc[i]['BsmtQual']=='Ex':\n",
    "        BsmtQual.append(4)\n",
    "    elif data.loc[i]['BsmtQual']=='Gd':\n",
    "        BsmtQual.append(3)\n",
    "    elif data.loc[i]['BsmtQual']=='TA':\n",
    "        BsmtQual.append(2)\n",
    "    elif data.loc[i]['BsmtQual']=='Fa':\n",
    "        BsmtQual.append(1)"
   ]
  },
  {
   "cell_type": "code",
   "execution_count": 102,
   "metadata": {},
   "outputs": [],
   "source": [
    "data['BsmtCond'] = BsmtCond\n",
    "data['BsmtQual'] = BsmtQual"
   ]
  },
  {
   "cell_type": "markdown",
   "metadata": {},
   "source": [
    "## BsmtFinType1"
   ]
  },
  {
   "cell_type": "code",
   "execution_count": 103,
   "metadata": {},
   "outputs": [
    {
     "name": "stdout",
     "output_type": "stream",
     "text": [
      "There are 79 sample(s) with missing BsmtFinType1 type, being 2.7064063035286057%. \n",
      "There are 849 sample(s) with BsmtFinType1 type GLQ, being 29.08530318602261%. \n",
      "There are 154 sample(s) with BsmtFinType1 type LwQ, being 5.275779376498801%. \n",
      "There are 288 sample(s) with BsmtFinType1 type Rec, being 9.866392600205549%. \n",
      "There are 851 sample(s) with BsmtFinType1 type Unf, being 29.153819801301818%. \n",
      "There are 269 sample(s) with BsmtFinType1 type BLQ, being 9.215484755053101%. \n",
      "There are 429 sample(s) with BsmtFinType1 type ALQ, being 14.696813977389517%. \n"
     ]
    }
   ],
   "source": [
    "var = 'BsmtFinType1'\n",
    "investigate_var(data,var)"
   ]
  },
  {
   "cell_type": "code",
   "execution_count": 104,
   "metadata": {},
   "outputs": [
    {
     "name": "stdout",
     "output_type": "stream",
     "text": [
      "There are 80 sample(s) with missing BsmtFinType2 type, being 2.7406646111682083%. \n",
      "There are 34 sample(s) with BsmtFinType2 type GLQ, being 1.1647824597464886%. \n",
      "There are 87 sample(s) with BsmtFinType2 type LwQ, being 2.9804727646454263%. \n",
      "There are 68 sample(s) with BsmtFinType2 type BLQ, being 2.3295649194929773%. \n",
      "There are 2493 sample(s) with BsmtFinType2 type Unf, being 85.40596094552929%. \n",
      "There are 105 sample(s) with BsmtFinType2 type Rec, being 3.597122302158273%. \n",
      "There are 52 sample(s) with BsmtFinType2 type ALQ, being 1.7814319972593355%. \n"
     ]
    }
   ],
   "source": [
    "var = 'BsmtFinType2'\n",
    "investigate_var(data,var)"
   ]
  },
  {
   "cell_type": "markdown",
   "metadata": {},
   "source": [
    "#### Use 'BsmtHiQArea', 'BsmtAvgQArea', 'BsmtLowQArea' to encapsulate the information from 'BsmtFinType1','BsmtFinType2','BsmtFinSF1' and 'BsmtFinSF2'. After that we can also safely drop 'TotalBsmt' and 'BsmtUnfSF'"
   ]
  },
  {
   "cell_type": "code",
   "execution_count": 105,
   "metadata": {},
   "outputs": [],
   "source": [
    "BsmtHiQArea = [0 for _ in range(sample_num)]\n",
    "BsmtAvgQArea = [0 for _ in range(sample_num)]\n",
    "BsmtLowQArea = [0 for _ in range(sample_num)]\n",
    "\n",
    "for i in range(1,sample_num+1):\n",
    "    if data.loc[i]['BsmtFinType1']=='GLQ':\n",
    "        BsmtHiQArea[i-1] += data.loc[i]['BsmtFinSF1']\n",
    "    elif data.loc[i]['BsmtFinType1']== 'Rec' or data.loc[i]['BsmtFinType1']=='ALQ':\n",
    "        BsmtAvgQArea[i-1] += data.loc[i]['BsmtFinSF1']\n",
    "    else:\n",
    "        BsmtLowQArea[i-1] += data.loc[i]['BsmtFinSF1']\n",
    "        \n",
    "for i in range(1,sample_num+1):\n",
    "    if data.loc[i]['BsmtFinType2']=='GLQ':\n",
    "        BsmtHiQArea[i-1] += data.loc[i]['BsmtFinSF2']\n",
    "    elif data.loc[i]['BsmtFinType2']== 'Rec' or data.loc[i]['BsmtFinType2']=='ALQ':\n",
    "        BsmtAvgQArea[i-1] += data.loc[i]['BsmtFinSF2']\n",
    "    else:\n",
    "        BsmtLowQArea[i-1] += data.loc[i]['BsmtFinSF2']\n",
    "        \n",
    "for i in range(1,sample_num+1):\n",
    "    BsmtLowQArea[i-1] = data.loc[i]['TotalBsmtSF'] - BsmtAvgQArea[i-1]-BsmtHiQArea[i-1]"
   ]
  },
  {
   "cell_type": "code",
   "execution_count": 106,
   "metadata": {},
   "outputs": [],
   "source": [
    "data.insert(variable_num,'BsmtHiQArea',BsmtHiQArea,True)\n",
    "data.insert(variable_num,'BsmtAvgQArea',BsmtAvgQArea,True)\n",
    "data.insert(variable_num,'BsmtLowQArea',BsmtLowQArea,True)"
   ]
  },
  {
   "cell_type": "code",
   "execution_count": 107,
   "metadata": {},
   "outputs": [],
   "source": [
    "data = data.drop(columns=['TotalBsmtSF','BsmtUnfSF','BsmtFinType1','BsmtFinType2','BsmtFinSF1','BsmtFinSF2'])"
   ]
  },
  {
   "cell_type": "code",
   "execution_count": 108,
   "metadata": {},
   "outputs": [
    {
     "name": "stdout",
     "output_type": "stream",
     "text": [
      "After rearranging the basement stats, there are 2919 samples and 64 variables\n"
     ]
    }
   ],
   "source": [
    "sample_num, variable_num = data.shape[0],data.shape[1]\n",
    "print(\"After rearranging the basement stats, there are {} samples and {} variables\".format(sample_num, variable_num))"
   ]
  },
  {
   "cell_type": "markdown",
   "metadata": {},
   "source": [
    "## BsmtExposure"
   ]
  },
  {
   "cell_type": "markdown",
   "metadata": {},
   "source": [
    "#### Translate 'BsmtExposure' scales into numbers "
   ]
  },
  {
   "cell_type": "code",
   "execution_count": 109,
   "metadata": {},
   "outputs": [],
   "source": [
    "BsmtExposure = []\n",
    "for i in range(1,sample_num+1):\n",
    "    if data.loc[i]['BsmtExposure']=='Gd':\n",
    "        BsmtExposure.append(3)\n",
    "    elif data.loc[i]['BsmtExposure']=='Av':\n",
    "        BsmtExposure.append(2)\n",
    "    elif data.loc[i]['BsmtExposure']=='Mn':\n",
    "        BsmtExposure.append(1)\n",
    "    else:\n",
    "        BsmtExposure.append(0)"
   ]
  },
  {
   "cell_type": "code",
   "execution_count": 110,
   "metadata": {},
   "outputs": [],
   "source": [
    "data['BsmtExposure']=BsmtExposure"
   ]
  },
  {
   "cell_type": "markdown",
   "metadata": {},
   "source": [
    "## GrLivArea and HouseStyle"
   ]
  },
  {
   "cell_type": "markdown",
   "metadata": {},
   "source": [
    "#### We will need to decide one of the following to reduce dimensionality\n",
    "#### (1) Remove 'GrLivArea' and 'HoustStyle' since they would be multicollinear first floor sqft and second floor sqft already;\n",
    "#### (2) Remove '1stFlrSF' and '2ndFlrSF' because these two themselve would cluster separately (due to some houses have no second cloor) and does not have a clear linear relation with the sale price"
   ]
  },
  {
   "cell_type": "code",
   "execution_count": 111,
   "metadata": {},
   "outputs": [
    {
     "data": {
      "text/plain": [
       "Text(0, 0.5, 'house price')"
      ]
     },
     "execution_count": 111,
     "metadata": {},
     "output_type": "execute_result"
    },
    {
     "data": {
      "image/png": "[encoded data removed]",
      "text/plain": [
       "<Figure size 432x288 with 1 Axes>"
      ]
     },
     "metadata": {
      "needs_background": "light"
     },
     "output_type": "display_data"
    }
   ],
   "source": [
    "living_area = data.head(1460)['GrLivArea']\n",
    "plt.scatter(living_area,house_price)\n",
    "plt.xlabel('living area')\n",
    "plt.ylabel('house price')"
   ]
  },
  {
   "cell_type": "code",
   "execution_count": 112,
   "metadata": {},
   "outputs": [
    {
     "data": {
      "text/plain": [
       "Text(0, 0.5, 'house price')"
      ]
     },
     "execution_count": 112,
     "metadata": {},
     "output_type": "execute_result"
    },
    {
     "data": {
      "image/png": "[encoded data removed]",
      "text/plain": [
       "<Figure size 432x288 with 1 Axes>"
      ]
     },
     "metadata": {
      "needs_background": "light"
     },
     "output_type": "display_data"
    }
   ],
   "source": [
    "firstFloor = data.head(1460)['1stFlrSF']\n",
    "plt.scatter(firstFloor,house_price)\n",
    "plt.xlabel('1st floor')\n",
    "plt.ylabel('house price')"
   ]
  },
  {
   "cell_type": "code",
   "execution_count": 113,
   "metadata": {},
   "outputs": [
    {
     "data": {
      "text/plain": [
       "Text(0, 0.5, 'house price')"
      ]
     },
     "execution_count": 113,
     "metadata": {},
     "output_type": "execute_result"
    },
    {
     "data": {
      "image/png": "[encoded data removed]",
      "text/plain": [
       "<Figure size 432x288 with 1 Axes>"
      ]
     },
     "metadata": {
      "needs_background": "light"
     },
     "output_type": "display_data"
    }
   ],
   "source": [
    "secondFloor = data.head(1460)['2ndFlrSF']\n",
    "plt.scatter(secondFloor,house_price)\n",
    "plt.xlabel('2nd floor')\n",
    "plt.ylabel('house price')"
   ]
  },
  {
   "cell_type": "markdown",
   "metadata": {},
   "source": [
    "#### As expected, due to a lot of houses having no second floor, the linear relation is not strong, so we will not use separate floor area "
   ]
  },
  {
   "cell_type": "code",
   "execution_count": 114,
   "metadata": {},
   "outputs": [],
   "source": [
    "data = data.drop(columns=['1stFlrSF','2ndFlrSF'])"
   ]
  },
  {
   "cell_type": "code",
   "execution_count": 115,
   "metadata": {},
   "outputs": [
    {
     "name": "stdout",
     "output_type": "stream",
     "text": [
      "After removing '1stFlrSF' and '2ndFlrSF', there are 2919 samples and 62 variables\n"
     ]
    }
   ],
   "source": [
    "sample_num, variable_num = data.shape[0],data.shape[1]\n",
    "print(\"After removing '1stFlrSF' and '2ndFlrSF', there are {} samples and {} variables\".format(sample_num, variable_num))"
   ]
  },
  {
   "cell_type": "markdown",
   "metadata": {},
   "source": [
    "## YearBuilt and YearRemodAdd"
   ]
  },
  {
   "cell_type": "markdown",
   "metadata": {},
   "source": [
    "#### Instead of using 'YearBuilt' and 'YearRemodAdd', it is more appropriate to use 'HouseAge' and 'RecentRemod'."
   ]
  },
  {
   "cell_type": "code",
   "execution_count": 116,
   "metadata": {},
   "outputs": [],
   "source": [
    "HouseAge = []\n",
    "for i in range(1,sample_num+1):\n",
    "    HouseAge.append(data.loc[i]['YrSold']-data.loc[i]['YearBuilt'])\n",
    "    \n",
    "RecentRemod = []\n",
    "for i in range(1,sample_num+1):\n",
    "    if data.loc[i]['YrSold']-data.loc[i]['YearRemodAdd']<5:\n",
    "        RecentRemod.append(1)\n",
    "    else:\n",
    "        RecentRemod.append(0)"
   ]
  },
  {
   "cell_type": "code",
   "execution_count": 117,
   "metadata": {},
   "outputs": [],
   "source": [
    "data.insert(variable_num,'HouseAge',HouseAge,True)\n",
    "data.insert(variable_num,'RecentRemod',RecentRemod,True)"
   ]
  },
  {
   "cell_type": "code",
   "execution_count": 118,
   "metadata": {},
   "outputs": [],
   "source": [
    "data = data.drop(columns=['YearBuilt','YearRemodAdd'])"
   ]
  },
  {
   "cell_type": "markdown",
   "metadata": {},
   "source": [
    "## Electrical"
   ]
  },
  {
   "cell_type": "code",
   "execution_count": 119,
   "metadata": {},
   "outputs": [
    {
     "name": "stdout",
     "output_type": "stream",
     "text": [
      "There are 1 sample(s) with missing Electrical type, being 0.0342583076396026%. \n",
      "There are 188 sample(s) with Electrical type FuseA, being 6.44056183624529%. \n",
      "There are 8 sample(s) with Electrical type FuseP, being 0.2740664611168208%. \n",
      "There are 1 sample(s) with Electrical type Mix, being 0.0342583076396026%. \n",
      "There are 2671 sample(s) with Electrical type SBrkr, being 91.50393970537856%. \n",
      "There are 50 sample(s) with Electrical type FuseF, being 1.7129153819801302%. \n"
     ]
    }
   ],
   "source": [
    "investigate_var(data,'Electrical')"
   ]
  },
  {
   "cell_type": "markdown",
   "metadata": {},
   "source": [
    "#### Since 90% of the typings are 'SKrbr', we will lump the other types into 'Others'."
   ]
  },
  {
   "cell_type": "code",
   "execution_count": 120,
   "metadata": {},
   "outputs": [],
   "source": [
    "Electrical = []\n",
    "for i in range(1,sample_num+1):\n",
    "    if data.loc[i]['Electrical']=='SBrkr':\n",
    "        Electrical.append(1)\n",
    "    else:\n",
    "        Electrical.append(0)"
   ]
  },
  {
   "cell_type": "code",
   "execution_count": 121,
   "metadata": {},
   "outputs": [],
   "source": [
    "data['Electrical']=Electrical"
   ]
  },
  {
   "cell_type": "markdown",
   "metadata": {},
   "source": [
    "## GarageYrBlt"
   ]
  },
  {
   "cell_type": "markdown",
   "metadata": {},
   "source": [
    "#### This variable has more than 5% missing rate, we should truncate it."
   ]
  },
  {
   "cell_type": "code",
   "execution_count": 122,
   "metadata": {},
   "outputs": [
    {
     "name": "stdout",
     "output_type": "stream",
     "text": [
      "The data missing rate for 'GarageYrBlt' is 0.10882956878850103\n"
     ]
    }
   ],
   "source": [
    "count = 0\n",
    "for i in range(1,data.shape[0]+1):\n",
    "    if math.isnan(data.loc[i]['GarageYrBlt']):\n",
    "        count += 1\n",
    "print(\"The data missing rate for 'GarageYrBlt' is {}\".format(count/1461))"
   ]
  },
  {
   "cell_type": "code",
   "execution_count": 123,
   "metadata": {},
   "outputs": [],
   "source": [
    "data = data.drop(columns=['GarageYrBlt'])"
   ]
  },
  {
   "cell_type": "markdown",
   "metadata": {},
   "source": [
    "## MSZoning"
   ]
  },
  {
   "cell_type": "code",
   "execution_count": 124,
   "metadata": {},
   "outputs": [
    {
     "name": "stdout",
     "output_type": "stream",
     "text": [
      "There are 4 sample(s) with missing MSZoning type, being 0.1370332305584104%. \n",
      "There are 26 sample(s) with MSZoning type RH, being 0.8907159986296678%. \n",
      "There are 2265 sample(s) with MSZoning type RL, being 77.5950668036999%. \n",
      "There are 139 sample(s) with MSZoning type FV, being 4.761904761904762%. \n",
      "There are 25 sample(s) with MSZoning type C (all), being 0.8564576909900651%. \n",
      "There are 460 sample(s) with MSZoning type RM, being 15.758821514217198%. \n"
     ]
    }
   ],
   "source": [
    "investigate_var(data,'MSZoning')"
   ]
  },
  {
   "cell_type": "markdown",
   "metadata": {},
   "source": [
    "#### Merge small typings into 'Others'"
   ]
  },
  {
   "cell_type": "code",
   "execution_count": 125,
   "metadata": {},
   "outputs": [],
   "source": [
    "MSZoning = []\n",
    "for i in range(1,sample_num+1):\n",
    "    if data.loc[i]['MSZoning']!='RL' and data.loc[i]['MSZoning']!='RM':\n",
    "        MSZoning.append('Others')\n",
    "    else:\n",
    "        MSZoning.append(data.loc[i]['MSZoning'])"
   ]
  },
  {
   "cell_type": "code",
   "execution_count": 126,
   "metadata": {},
   "outputs": [],
   "source": [
    "data['MSZoning'] = MSZoning"
   ]
  },
  {
   "cell_type": "markdown",
   "metadata": {},
   "source": [
    "## LotConfig"
   ]
  },
  {
   "cell_type": "code",
   "execution_count": 127,
   "metadata": {},
   "outputs": [
    {
     "name": "stdout",
     "output_type": "stream",
     "text": [
      "There are 511 sample(s) with LotConfig type Corner, being 17.505995203836928%. \n",
      "There are 176 sample(s) with LotConfig type CulDSac, being 6.029462144570058%. \n",
      "There are 14 sample(s) with LotConfig type FR3, being 0.4796163069544364%. \n",
      "There are 85 sample(s) with LotConfig type FR2, being 2.9119561493662216%. \n",
      "There are 2133 sample(s) with LotConfig type Inside, being 73.07297019527236%. \n"
     ]
    }
   ],
   "source": [
    "investigate_var(data,'LotConfig')"
   ]
  },
  {
   "cell_type": "code",
   "execution_count": 128,
   "metadata": {},
   "outputs": [],
   "source": [
    "LotConfig = []\n",
    "for i in range(1,sample_num+1):\n",
    "    if data.loc[i]['LotConfig']!='Inside' and data.loc[i]['LotConfig']!='Corner':\n",
    "        LotConfig.append('Others')\n",
    "    else:\n",
    "        LotConfig.append(data.loc[i]['LotConfig'])"
   ]
  },
  {
   "cell_type": "code",
   "execution_count": 129,
   "metadata": {},
   "outputs": [],
   "source": [
    "data['LotConfig']=LotConfig"
   ]
  },
  {
   "cell_type": "markdown",
   "metadata": {},
   "source": [
    "## MasVnrArea"
   ]
  },
  {
   "cell_type": "markdown",
   "metadata": {},
   "source": [
    "#### Look at missing values for this variable"
   ]
  },
  {
   "cell_type": "code",
   "execution_count": 130,
   "metadata": {},
   "outputs": [
    {
     "name": "stdout",
     "output_type": "stream",
     "text": [
      "The data missing rate for 'MasVnrArea' is 0.01574264202600958\n"
     ]
    }
   ],
   "source": [
    "count = 0\n",
    "for i in range(1,data.shape[0]+1):\n",
    "    if math.isnan(data.loc[i]['MasVnrArea']):\n",
    "        count += 1\n",
    "print(\"The data missing rate for 'MasVnrArea' is {}\".format(count/1461))"
   ]
  },
  {
   "cell_type": "markdown",
   "metadata": {},
   "source": [
    "#### There is only a few that is missing. We fill missing values with zero."
   ]
  },
  {
   "cell_type": "code",
   "execution_count": 131,
   "metadata": {},
   "outputs": [],
   "source": [
    "data['MasVnrArea'] = data['MasVnrArea'].fillna(0)"
   ]
  },
  {
   "cell_type": "markdown",
   "metadata": {},
   "source": [
    "# A Final Check on Missing Data"
   ]
  },
  {
   "cell_type": "code",
   "execution_count": 132,
   "metadata": {},
   "outputs": [
    {
     "name": "stdout",
     "output_type": "stream",
     "text": [
      "Sample 1556 predictor KitchenQual is missing.\n",
      "Sample 2121 predictor Bath is missing.\n",
      "Sample 2121 predictor BsmtLowQArea is missing.\n",
      "Sample 2189 predictor Bath is missing.\n",
      "Sample 2217 predictor Functional is missing.\n",
      "Sample 2474 predictor Functional is missing.\n",
      "Sample 2490 predictor SaleType is missing.\n"
     ]
    }
   ],
   "source": [
    "for i in range(1,2920):\n",
    "    for var in set(data):\n",
    "        try:\n",
    "            if math.isnan(data.loc[i][var]):\n",
    "                print(\"Sample {} predictor {} is missing.\".format(i,var))\n",
    "        except:\n",
    "            continue"
   ]
  },
  {
   "cell_type": "markdown",
   "metadata": {},
   "source": [
    "#### Lets fill missing data"
   ]
  },
  {
   "cell_type": "code",
   "execution_count": 133,
   "metadata": {},
   "outputs": [],
   "source": [
    "data['Bath'] = data['Bath'].fillna(np.mean(data['Bath'])) # fill missing Bath with average number of bath\n",
    "data['KitchenQual'] = data['KitchenQual'].fillna('TA') # fill missing KitchenQual with average kitchen quality\n",
    "data['Functional'] = data['Functional'].fillna('Typ') # fill missing Functional with typical functionality\n",
    "data['SaleType'] = data['SaleType'].fillna('Oth') # fill missing SaleType with 'Oth' (Other)\n",
    "data['BsmtLowQArea'] = data['BsmtLowQArea'].fillna(np.mean(data['BsmtLowQArea'])) # fill missing BsmtLowQArea by the mean"
   ]
  },
  {
   "cell_type": "markdown",
   "metadata": {},
   "source": [
    "## KitchenQual"
   ]
  },
  {
   "cell_type": "code",
   "execution_count": 134,
   "metadata": {},
   "outputs": [],
   "source": [
    "KitchenQual = []\n",
    "for i in range(1,sample_num+1):\n",
    "    if data.loc[i]['KitchenQual']=='Ex':\n",
    "        KitchenQual.append(4)\n",
    "    elif data.loc[i]['KitchenQual']=='Gd':\n",
    "        KitchenQual.append(3)\n",
    "    elif data.loc[i]['KitchenQual']=='TA':\n",
    "        KitchenQual.append(2)\n",
    "    elif data.loc[i]['KitchenQual']=='Fa':\n",
    "        KitchenQual.append(1)\n",
    "    else:\n",
    "        KitchenQual.append(0)"
   ]
  },
  {
   "cell_type": "code",
   "execution_count": 135,
   "metadata": {},
   "outputs": [],
   "source": [
    "data['KitchenQual'] = KitchenQual"
   ]
  },
  {
   "cell_type": "markdown",
   "metadata": {},
   "source": [
    "# Make dummies for categorical variables"
   ]
  },
  {
   "cell_type": "code",
   "execution_count": 136,
   "metadata": {},
   "outputs": [],
   "source": [
    "# get all categorical variables\n",
    "categorical_var=[]\n",
    "for var in data:\n",
    "    try:\n",
    "        float(data.loc[1][var])\n",
    "    except:\n",
    "        categorical_var.append(var)\n",
    "    "
   ]
  },
  {
   "cell_type": "code",
   "execution_count": 137,
   "metadata": {},
   "outputs": [],
   "source": [
    "data = pd.get_dummies(data,columns=categorical_var)"
   ]
  },
  {
   "cell_type": "code",
   "execution_count": 138,
   "metadata": {},
   "outputs": [],
   "source": [
    "data.to_csv('E:/projects/housing_price/data/cleaned_data.csv',header=True)"
   ]
  },
  {
   "cell_type": "code",
   "execution_count": null,
   "metadata": {},
   "outputs": [],
   "source": []
  }
 ],
 "metadata": {
  "kernelspec": {
   "display_name": "Python 3",
   "language": "python",
   "name": "python3"
  },
  "language_info": {
   "codemirror_mode": {
    "name": "ipython",
    "version": 3
   },
   "file_extension": ".py",
   "mimetype": "text/x-python",
   "name": "python",
   "nbconvert_exporter": "python",
   "pygments_lexer": "ipython3",
   "version": "3.7.4"
  }
 },
 "nbformat": 4,
 "nbformat_minor": 2
}
